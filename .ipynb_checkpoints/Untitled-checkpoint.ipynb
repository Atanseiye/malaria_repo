{
 "cells": [
  {
   "cell_type": "code",
   "execution_count": 79,
   "id": "034320e8-e1df-490f-8eec-9023e4f9cda6",
   "metadata": {},
   "outputs": [],
   "source": [
    "data = pd.read_csv('dengue.csv')"
   ]
  },
  {
   "cell_type": "code",
   "execution_count": 80,
   "id": "a5409e35-a710-4535-8c75-33caa569cf18",
   "metadata": {},
   "outputs": [
    {
     "name": "stdout",
     "output_type": "stream",
     "text": [
      "<class 'pandas.core.frame.DataFrame'>\n",
      "RangeIndex: 108 entries, 0 to 107\n",
      "Data columns (total 17 columns):\n",
      " #   Column                       Non-Null Count  Dtype  \n",
      "---  ------                       --------------  -----  \n",
      " 0   i_d                          108 non-null    object \n",
      " 1   date_of_fever                108 non-null    object \n",
      " 2   days                         99 non-null     object \n",
      " 3   current_temp                 108 non-null    float64\n",
      " 4   wbc                          45 non-null     float64\n",
      " 5   servere_headche              90 non-null     object \n",
      " 6   pain_behind_the_eyes         108 non-null    object \n",
      " 7   joint_muscle_aches           99 non-null     object \n",
      " 8   metallic_taste_in_the_mouth  108 non-null    object \n",
      " 9   appetite_loss                108 non-null    object \n",
      " 10  addominal_pain               108 non-null    object \n",
      " 11  nausea_vomiting              108 non-null    object \n",
      " 12  diarrhoea                    108 non-null    object \n",
      " 13  hemoglobin                   36 non-null     float64\n",
      " 14  hematocri                    27 non-null     float64\n",
      " 15  platelet                     54 non-null     float64\n",
      " 16  Malaria                      99 non-null     object \n",
      "dtypes: float64(5), object(12)\n",
      "memory usage: 14.5+ KB\n"
     ]
    }
   ],
   "source": [
    "data.info()"
   ]
  },
  {
   "cell_type": "code",
   "execution_count": null,
   "id": "4e7ed867-7aa9-49ea-9544-b2e840b30678",
   "metadata": {},
   "outputs": [],
   "source": []
  },
  {
   "cell_type": "code",
   "execution_count": 81,
   "id": "185aceb3-73a9-4ca4-b45c-c47701232d00",
   "metadata": {},
   "outputs": [
    {
     "data": {
      "text/plain": [
       "i_d                             0\n",
       "date_of_fever                   0\n",
       "days                            9\n",
       "current_temp                    0\n",
       "wbc                            63\n",
       "servere_headche                18\n",
       "pain_behind_the_eyes            0\n",
       "joint_muscle_aches              9\n",
       "metallic_taste_in_the_mouth     0\n",
       "appetite_loss                   0\n",
       "addominal_pain                  0\n",
       "nausea_vomiting                 0\n",
       "diarrhoea                       0\n",
       "hemoglobin                     72\n",
       "hematocri                      81\n",
       "platelet                       54\n",
       "Malaria                         9\n",
       "dtype: int64"
      ]
     },
     "execution_count": 81,
     "metadata": {},
     "output_type": "execute_result"
    }
   ],
   "source": [
    "data.isna().sum()"
   ]
  },
  {
   "cell_type": "code",
   "execution_count": 82,
   "id": "41f43572-7dcf-4b29-8ccf-313ef8cbdb1d",
   "metadata": {},
   "outputs": [],
   "source": []
  },
  {
   "cell_type": "code",
   "execution_count": 83,
   "id": "cb964ac0-ed4e-4ca8-88e3-79c93d0103d6",
   "metadata": {},
   "outputs": [
    {
     "name": "stdout",
     "output_type": "stream",
     "text": [
      "days                            9\n",
      "current_temp                    0\n",
      "servere_headche                18\n",
      "pain_behind_the_eyes            0\n",
      "joint_muscle_aches              9\n",
      "metallic_taste_in_the_mouth     0\n",
      "appetite_loss                   0\n",
      "addominal_pain                  0\n",
      "nausea_vomiting                 0\n",
      "diarrhoea                       0\n",
      "Malaria                         9\n",
      "dtype: int64\n",
      "<class 'pandas.core.frame.DataFrame'>\n",
      "RangeIndex: 108 entries, 0 to 107\n",
      "Data columns (total 11 columns):\n",
      " #   Column                       Non-Null Count  Dtype  \n",
      "---  ------                       --------------  -----  \n",
      " 0   days                         99 non-null     object \n",
      " 1   current_temp                 108 non-null    float64\n",
      " 2   servere_headche              90 non-null     object \n",
      " 3   pain_behind_the_eyes         108 non-null    object \n",
      " 4   joint_muscle_aches           99 non-null     object \n",
      " 5   metallic_taste_in_the_mouth  108 non-null    object \n",
      " 6   appetite_loss                108 non-null    object \n",
      " 7   addominal_pain               108 non-null    object \n",
      " 8   nausea_vomiting              108 non-null    object \n",
      " 9   diarrhoea                    108 non-null    object \n",
      " 10  Malaria                      99 non-null     object \n",
      "dtypes: float64(1), object(10)\n",
      "memory usage: 9.4+ KB\n"
     ]
    }
   ],
   "source": [
    "print(data.isna().sum())\n",
    "data.info()\n"
   ]
  },
  {
   "cell_type": "code",
   "execution_count": 77,
   "id": "53aebbc7-8a52-4d6a-9497-dbe6b4ffedae",
   "metadata": {},
   "outputs": [],
   "source": []
  },
  {
   "cell_type": "code",
   "execution_count": 78,
   "id": "b759389d-d6e3-4099-9c6d-acbc4325ec44",
   "metadata": {},
   "outputs": [
    {
     "data": {
      "text/plain": [
       "days                           0\n",
       "current_temp                   0\n",
       "servere_headche                0\n",
       "pain_behind_the_eyes           0\n",
       "joint_muscle_aches             0\n",
       "metallic_taste_in_the_mouth    0\n",
       "appetite_loss                  0\n",
       "addominal_pain                 0\n",
       "nausea_vomiting                0\n",
       "diarrhoea                      0\n",
       "Malaria                        0\n",
       "dday                           0\n",
       "ddday                          0\n",
       "dtype: int64"
      ]
     },
     "execution_count": 78,
     "metadata": {},
     "output_type": "execute_result"
    }
   ],
   "source": [
    "data.isna().sum()"
   ]
  },
  {
   "cell_type": "markdown",
   "id": "4743388a-9152-49ca-a1ad-1838bd7b0d9e",
   "metadata": {},
   "source": [
    "## Cleaning"
   ]
  },
  {
   "cell_type": "code",
   "execution_count": 140,
   "id": "f241fa16-2c52-4d4e-b44d-643e6146094b",
   "metadata": {},
   "outputs": [],
   "source": [
    "data = pd.read_csv('dengue.csv')"
   ]
  },
  {
   "cell_type": "code",
   "execution_count": 141,
   "id": "8ecd5efa-f286-4283-abb3-87b127afe139",
   "metadata": {},
   "outputs": [],
   "source": [
    "def wrangle(data):\n",
    "    #Fill NaN values\n",
    "    data['servere_headche'].fillna(method='ffill', inplace=True)\n",
    "    data['joint_muscle_aches'].fillna(method='ffill', inplace=True)\n",
    "    data['days'].fillna(method='ffill', inplace=True)\n",
    "    data['Malaria'].fillna(method='ffill', inplace=True)\n",
    "    \n",
    "    #drop NAN values\n",
    "    data.drop(columns=['wbc', 'hematocri', 'hemoglobin', 'platelet', 'date_of_fever', 'i_d'], inplace=True)\n",
    "    \n",
    "    \n",
    "    maps = { \n",
    "    '3--4':3,\n",
    "    '10':10, \n",
    "    \"2\":2, \n",
    "    '3':3, \n",
    "    '4':4, \n",
    "    '5':5, \n",
    "    '12':12\n",
    "    }\n",
    "\n",
    "\n",
    "    y_map = {\n",
    "    'yes':1,\n",
    "    'no':0\n",
    "    }\n",
    "    \n",
    "    data['days'] = data['days'].str.split(' ', expand=True)[0]\n",
    "    data['days'] = data['days'].map(maps)\n",
    "    \n",
    "    # df = data['days'].str.split(' ', expand=True)[0].str.split('--')\n",
    "    data['servere_headche'] = data['servere_headche'].map(y_map)\n",
    "    data['pain_behind_the_eyes'] = data['pain_behind_the_eyes'].map(y_map)\n",
    "    data['joint_muscle_aches'] = data['joint_muscle_aches'].map(y_map)\n",
    "    data['metallic_taste_in_the_mouth'] = data['metallic_taste_in_the_mouth'].map(y_map)\n",
    "    data['appetite_loss'] = data['appetite_loss'].map(y_map)\n",
    "    data['addominal_pain'] = data['addominal_pain'].map(y_map)\n",
    "    data['nausea_vomiting'] = data['nausea_vomiting'].map(y_map)\n",
    "    data['diarrhoea'] = data['diarrhoea'].map(y_map)\n",
    "    data['Malaria'] = data['Malaria'].map(y_map)\n",
    "    \n",
    "    # Normalise current Temp column\n",
    "    data['current_temp'] = (data['current_temp'] - max(data['current_temp']))/(max(data['current_temp'])-min(data['current_temp']))\n",
    "    \n",
    "    \n",
    "    return data"
   ]
  },
  {
   "cell_type": "code",
   "execution_count": 142,
   "id": "f21f7e04-d75b-4b75-a514-733520030f3c",
   "metadata": {},
   "outputs": [
    {
     "data": {
      "text/html": [
       "<div>\n",
       "<style scoped>\n",
       "    .dataframe tbody tr th:only-of-type {\n",
       "        vertical-align: middle;\n",
       "    }\n",
       "\n",
       "    .dataframe tbody tr th {\n",
       "        vertical-align: top;\n",
       "    }\n",
       "\n",
       "    .dataframe thead th {\n",
       "        text-align: right;\n",
       "    }\n",
       "</style>\n",
       "<table border=\"1\" class=\"dataframe\">\n",
       "  <thead>\n",
       "    <tr style=\"text-align: right;\">\n",
       "      <th></th>\n",
       "      <th>days</th>\n",
       "      <th>current_temp</th>\n",
       "      <th>servere_headche</th>\n",
       "      <th>pain_behind_the_eyes</th>\n",
       "      <th>joint_muscle_aches</th>\n",
       "      <th>metallic_taste_in_the_mouth</th>\n",
       "      <th>appetite_loss</th>\n",
       "      <th>addominal_pain</th>\n",
       "      <th>nausea_vomiting</th>\n",
       "      <th>diarrhoea</th>\n",
       "      <th>Malaria</th>\n",
       "    </tr>\n",
       "  </thead>\n",
       "  <tbody>\n",
       "    <tr>\n",
       "      <th>0</th>\n",
       "      <td>10</td>\n",
       "      <td>-0.047619</td>\n",
       "      <td>1</td>\n",
       "      <td>0</td>\n",
       "      <td>0</td>\n",
       "      <td>1</td>\n",
       "      <td>1</td>\n",
       "      <td>1</td>\n",
       "      <td>0</td>\n",
       "      <td>1</td>\n",
       "      <td>1</td>\n",
       "    </tr>\n",
       "    <tr>\n",
       "      <th>1</th>\n",
       "      <td>4</td>\n",
       "      <td>-0.009524</td>\n",
       "      <td>0</td>\n",
       "      <td>1</td>\n",
       "      <td>1</td>\n",
       "      <td>0</td>\n",
       "      <td>0</td>\n",
       "      <td>0</td>\n",
       "      <td>0</td>\n",
       "      <td>0</td>\n",
       "      <td>0</td>\n",
       "    </tr>\n",
       "    <tr>\n",
       "      <th>2</th>\n",
       "      <td>5</td>\n",
       "      <td>-0.009524</td>\n",
       "      <td>0</td>\n",
       "      <td>0</td>\n",
       "      <td>0</td>\n",
       "      <td>1</td>\n",
       "      <td>1</td>\n",
       "      <td>1</td>\n",
       "      <td>1</td>\n",
       "      <td>0</td>\n",
       "      <td>1</td>\n",
       "    </tr>\n",
       "    <tr>\n",
       "      <th>3</th>\n",
       "      <td>12</td>\n",
       "      <td>-0.038095</td>\n",
       "      <td>1</td>\n",
       "      <td>1</td>\n",
       "      <td>0</td>\n",
       "      <td>0</td>\n",
       "      <td>0</td>\n",
       "      <td>0</td>\n",
       "      <td>0</td>\n",
       "      <td>0</td>\n",
       "      <td>0</td>\n",
       "    </tr>\n",
       "    <tr>\n",
       "      <th>4</th>\n",
       "      <td>3</td>\n",
       "      <td>-0.038095</td>\n",
       "      <td>1</td>\n",
       "      <td>0</td>\n",
       "      <td>0</td>\n",
       "      <td>0</td>\n",
       "      <td>0</td>\n",
       "      <td>0</td>\n",
       "      <td>1</td>\n",
       "      <td>0</td>\n",
       "      <td>0</td>\n",
       "    </tr>\n",
       "    <tr>\n",
       "      <th>...</th>\n",
       "      <td>...</td>\n",
       "      <td>...</td>\n",
       "      <td>...</td>\n",
       "      <td>...</td>\n",
       "      <td>...</td>\n",
       "      <td>...</td>\n",
       "      <td>...</td>\n",
       "      <td>...</td>\n",
       "      <td>...</td>\n",
       "      <td>...</td>\n",
       "      <td>...</td>\n",
       "    </tr>\n",
       "    <tr>\n",
       "      <th>103</th>\n",
       "      <td>2</td>\n",
       "      <td>-0.014286</td>\n",
       "      <td>1</td>\n",
       "      <td>1</td>\n",
       "      <td>0</td>\n",
       "      <td>1</td>\n",
       "      <td>0</td>\n",
       "      <td>0</td>\n",
       "      <td>0</td>\n",
       "      <td>0</td>\n",
       "      <td>1</td>\n",
       "    </tr>\n",
       "    <tr>\n",
       "      <th>104</th>\n",
       "      <td>3</td>\n",
       "      <td>-0.019048</td>\n",
       "      <td>1</td>\n",
       "      <td>1</td>\n",
       "      <td>1</td>\n",
       "      <td>0</td>\n",
       "      <td>0</td>\n",
       "      <td>0</td>\n",
       "      <td>0</td>\n",
       "      <td>0</td>\n",
       "      <td>1</td>\n",
       "    </tr>\n",
       "    <tr>\n",
       "      <th>105</th>\n",
       "      <td>2</td>\n",
       "      <td>-0.038095</td>\n",
       "      <td>1</td>\n",
       "      <td>0</td>\n",
       "      <td>1</td>\n",
       "      <td>0</td>\n",
       "      <td>0</td>\n",
       "      <td>1</td>\n",
       "      <td>0</td>\n",
       "      <td>0</td>\n",
       "      <td>1</td>\n",
       "    </tr>\n",
       "    <tr>\n",
       "      <th>106</th>\n",
       "      <td>3</td>\n",
       "      <td>0.000000</td>\n",
       "      <td>1</td>\n",
       "      <td>0</td>\n",
       "      <td>1</td>\n",
       "      <td>0</td>\n",
       "      <td>1</td>\n",
       "      <td>0</td>\n",
       "      <td>1</td>\n",
       "      <td>0</td>\n",
       "      <td>1</td>\n",
       "    </tr>\n",
       "    <tr>\n",
       "      <th>107</th>\n",
       "      <td>3</td>\n",
       "      <td>-1.000000</td>\n",
       "      <td>1</td>\n",
       "      <td>0</td>\n",
       "      <td>1</td>\n",
       "      <td>0</td>\n",
       "      <td>0</td>\n",
       "      <td>0</td>\n",
       "      <td>1</td>\n",
       "      <td>0</td>\n",
       "      <td>1</td>\n",
       "    </tr>\n",
       "  </tbody>\n",
       "</table>\n",
       "<p>108 rows × 11 columns</p>\n",
       "</div>"
      ],
      "text/plain": [
       "     days  current_temp  servere_headche  pain_behind_the_eyes  \\\n",
       "0      10     -0.047619                1                     0   \n",
       "1       4     -0.009524                0                     1   \n",
       "2       5     -0.009524                0                     0   \n",
       "3      12     -0.038095                1                     1   \n",
       "4       3     -0.038095                1                     0   \n",
       "..    ...           ...              ...                   ...   \n",
       "103     2     -0.014286                1                     1   \n",
       "104     3     -0.019048                1                     1   \n",
       "105     2     -0.038095                1                     0   \n",
       "106     3      0.000000                1                     0   \n",
       "107     3     -1.000000                1                     0   \n",
       "\n",
       "     joint_muscle_aches  metallic_taste_in_the_mouth  appetite_loss  \\\n",
       "0                     0                            1              1   \n",
       "1                     1                            0              0   \n",
       "2                     0                            1              1   \n",
       "3                     0                            0              0   \n",
       "4                     0                            0              0   \n",
       "..                  ...                          ...            ...   \n",
       "103                   0                            1              0   \n",
       "104                   1                            0              0   \n",
       "105                   1                            0              0   \n",
       "106                   1                            0              1   \n",
       "107                   1                            0              0   \n",
       "\n",
       "     addominal_pain  nausea_vomiting  diarrhoea  Malaria  \n",
       "0                 1                0          1        1  \n",
       "1                 0                0          0        0  \n",
       "2                 1                1          0        1  \n",
       "3                 0                0          0        0  \n",
       "4                 0                1          0        0  \n",
       "..              ...              ...        ...      ...  \n",
       "103               0                0          0        1  \n",
       "104               0                0          0        1  \n",
       "105               1                0          0        1  \n",
       "106               0                1          0        1  \n",
       "107               0                1          0        1  \n",
       "\n",
       "[108 rows x 11 columns]"
      ]
     },
     "execution_count": 142,
     "metadata": {},
     "output_type": "execute_result"
    }
   ],
   "source": [
    "wrangle(data)"
   ]
  },
  {
   "cell_type": "code",
   "execution_count": 143,
   "id": "59d385b8-8665-42f0-af2a-0c8841d1cca2",
   "metadata": {},
   "outputs": [],
   "source": [
    "from sklearn.metrics import r2_score, mean_squared_error\n",
    "from sklearn.linear_model import LogisticRegression\n",
    "from sklearn.tree import DecisionTreeClassifier\n",
    "from sklearn.neural_network import MLPClassifier\n",
    "from sklearn.model_selection import train_test_split\n",
    "from sklearn.ensemble import VotingClassifier"
   ]
  },
  {
   "cell_type": "code",
   "execution_count": 144,
   "id": "a50e9bb7-2b70-4ad1-931a-a67600f95bdb",
   "metadata": {},
   "outputs": [],
   "source": [
    "X = data.drop(columns=['Malaria'])\n",
    "y = data.Malaria"
   ]
  },
  {
   "cell_type": "code",
   "execution_count": 145,
   "id": "7288cb95-6450-48a6-ab4f-cee4db5afe28",
   "metadata": {},
   "outputs": [],
   "source": [
    "X_train, X_test, y_train, y_test = train_test_split(X, y, test_size=.2, random_state=42)"
   ]
  },
  {
   "cell_type": "code",
   "execution_count": 146,
   "id": "c77866ad-6b30-4387-ab1e-3dd46bbbf28b",
   "metadata": {},
   "outputs": [],
   "source": [
    "logistic = LogisticRegression(random_state=42, max_iter=200)\n",
    "dt = DecisionTreeClassifier(random_state=42)\n",
    "MLP = MLPClassifier(random_state=42, max_iter=1000)\n",
    "\n",
    "# Create a voting classifier (hard voting)\n",
    "voting_clf = VotingClassifier(estimators=[\n",
    "    ('logR', logistic), \n",
    "    ('dt', dt), \n",
    "    ('MLP', MLP)\n",
    "], voting='hard')"
   ]
  },
  {
   "cell_type": "code",
   "execution_count": 147,
   "id": "41dc1e18-4ea5-4fd8-9a0e-e0e1dccd3460",
   "metadata": {},
   "outputs": [
    {
     "data": {
      "text/plain": [
       "VotingClassifier(estimators=[('logR',\n",
       "                              LogisticRegression(max_iter=200,\n",
       "                                                 random_state=42)),\n",
       "                             ('dt', DecisionTreeClassifier(random_state=42)),\n",
       "                             ('MLP',\n",
       "                              MLPClassifier(max_iter=1000, random_state=42))])"
      ]
     },
     "execution_count": 147,
     "metadata": {},
     "output_type": "execute_result"
    }
   ],
   "source": [
    "# Train the voting classifier\n",
    "voting_clf.fit(X_train, y_train)"
   ]
  },
  {
   "cell_type": "code",
   "execution_count": 148,
   "id": "59c49a82-7522-403f-9049-2b9950ed64e9",
   "metadata": {},
   "outputs": [],
   "source": [
    "prediction = voting_clf.predict(X_test)"
   ]
  },
  {
   "cell_type": "code",
   "execution_count": 149,
   "id": "78fc2228-bc8a-4591-aad8-3c6c727315e8",
   "metadata": {},
   "outputs": [
    {
     "data": {
      "text/plain": [
       "1.0"
      ]
     },
     "execution_count": 149,
     "metadata": {},
     "output_type": "execute_result"
    }
   ],
   "source": [
    "r2_score(y_test, prediction)"
   ]
  },
  {
   "cell_type": "markdown",
   "id": "9892991f-3cdd-480f-9fa4-c92cd56f65ce",
   "metadata": {},
   "source": [
    "### Save Model"
   ]
  },
  {
   "cell_type": "code",
   "execution_count": 124,
   "id": "a6676db0-0752-4a6c-9764-bc7c813faa51",
   "metadata": {},
   "outputs": [],
   "source": [
    "import pickle\n",
    "with open('model.pkl', 'wb') as f:\n",
    "    pickle.dump(voting_clf, f)"
   ]
  },
  {
   "cell_type": "code",
   "execution_count": null,
   "id": "caf820c7-ee7d-476f-9873-929d84c8a8c8",
   "metadata": {},
   "outputs": [],
   "source": []
  }
 ],
 "metadata": {
  "kernelspec": {
   "display_name": "Python 3 (ipykernel)",
   "language": "python",
   "name": "python3"
  },
  "language_info": {
   "codemirror_mode": {
    "name": "ipython",
    "version": 3
   },
   "file_extension": ".py",
   "mimetype": "text/x-python",
   "name": "python",
   "nbconvert_exporter": "python",
   "pygments_lexer": "ipython3",
   "version": "3.9.13"
  }
 },
 "nbformat": 4,
 "nbformat_minor": 5
}
